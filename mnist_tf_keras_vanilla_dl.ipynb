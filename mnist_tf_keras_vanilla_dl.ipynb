{
 "metadata": {
  "language_info": {
   "codemirror_mode": {
    "name": "ipython",
    "version": 3
   },
   "file_extension": ".py",
   "mimetype": "text/x-python",
   "name": "python",
   "nbconvert_exporter": "python",
   "pygments_lexer": "ipython3",
   "version": "3.8.7-final"
  },
  "orig_nbformat": 2,
  "kernelspec": {
   "name": "python38764bitenv1f3a0de0e999425d9f4db65bc8cd3569",
   "display_name": "Python 3.8.7 64-bit ('env')",
   "language": "python"
  }
 },
 "nbformat": 4,
 "nbformat_minor": 2,
 "cells": [
  {
   "cell_type": "code",
   "execution_count": 8,
   "metadata": {},
   "outputs": [],
   "source": [
    "import numpy as np\n",
    "import tensorflow as tf\n",
    "import tensorflow_datasets as tfds"
   ]
  },
  {
   "cell_type": "code",
   "execution_count": 9,
   "metadata": {},
   "outputs": [],
   "source": [
    "(mnist_ds_train, mnist_ds_test) = tfds.load('mnist', split=['train', 'test'], shuffle_files=True)"
   ]
  },
  {
   "cell_type": "code",
   "execution_count": 10,
   "metadata": {},
   "outputs": [],
   "source": [
    "mnist_ds_train = mnist_ds_train.map(lambda example: (example['image'], example['label']))\n",
    "mnist_ds_test = mnist_ds_test.map(lambda example: (example['image'], example['label']))"
   ]
  },
  {
   "cell_type": "code",
   "execution_count": 11,
   "metadata": {},
   "outputs": [],
   "source": [
    "network = tf.keras.models.Sequential([\n",
    "    tf.keras.layers.Flatten(input_shape=(28, 28)),\n",
    "    tf.keras.layers.Dense(512, activation='relu', kernel_regularizer=tf.keras.regularizers.l2(0.001)),\n",
    "    tf.keras.layers.Dense(10, activation='softmax')\n",
    "])"
   ]
  },
  {
   "cell_type": "code",
   "execution_count": 12,
   "metadata": {},
   "outputs": [],
   "source": [
    "network.compile(optimizer='rmsprop', loss='sparse_categorical_crossentropy', metrics=['accuracy'])"
   ]
  },
  {
   "cell_type": "code",
   "execution_count": 13,
   "metadata": {},
   "outputs": [],
   "source": [
    "mnist_ds_train_preprocessed = mnist_ds_train.map(lambda features, label: (tf.cast(tf.squeeze(features, [2]), tf.float32)/255.0, label))\n",
    "mnist_ds_test_preprocessed = mnist_ds_test.map(lambda features, label: (tf.cast(tf.squeeze(features, [2]), tf.float32)/255.0, label))"
   ]
  },
  {
   "cell_type": "code",
   "execution_count": 14,
   "metadata": {},
   "outputs": [
    {
     "output_type": "stream",
     "name": "stdout",
     "text": [
      "Epoch 1/10\n",
      "469/469 [==============================] - 4s 9ms/step - loss: 0.7436 - accuracy: 0.8678 - val_loss: 0.2601 - val_accuracy: 0.9593\n",
      "Epoch 2/10\n",
      "469/469 [==============================] - 3s 6ms/step - loss: 0.2583 - accuracy: 0.9550 - val_loss: 0.1916 - val_accuracy: 0.9678\n",
      "Epoch 3/10\n",
      "469/469 [==============================] - 3s 6ms/step - loss: 0.2018 - accuracy: 0.9649 - val_loss: 0.1701 - val_accuracy: 0.9712\n",
      "Epoch 4/10\n",
      "469/469 [==============================] - 3s 6ms/step - loss: 0.1794 - accuracy: 0.9693 - val_loss: 0.1596 - val_accuracy: 0.9729\n",
      "Epoch 5/10\n",
      "469/469 [==============================] - 3s 6ms/step - loss: 0.1668 - accuracy: 0.9727 - val_loss: 0.1538 - val_accuracy: 0.9726\n",
      "Epoch 6/10\n",
      "469/469 [==============================] - 3s 6ms/step - loss: 0.1582 - accuracy: 0.9741 - val_loss: 0.1511 - val_accuracy: 0.9744\n",
      "Epoch 7/10\n",
      "469/469 [==============================] - 3s 6ms/step - loss: 0.1520 - accuracy: 0.9753 - val_loss: 0.1498 - val_accuracy: 0.9741\n",
      "Epoch 8/10\n",
      "469/469 [==============================] - 3s 6ms/step - loss: 0.1469 - accuracy: 0.9761 - val_loss: 0.1508 - val_accuracy: 0.9727\n",
      "Epoch 9/10\n",
      "469/469 [==============================] - 3s 6ms/step - loss: 0.1421 - accuracy: 0.9772 - val_loss: 0.1459 - val_accuracy: 0.9749\n",
      "Epoch 10/10\n",
      "469/469 [==============================] - 3s 6ms/step - loss: 0.1390 - accuracy: 0.9780 - val_loss: 0.1444 - val_accuracy: 0.9739\n"
     ]
    },
    {
     "output_type": "execute_result",
     "data": {
      "text/plain": [
       "{'loss': [0.48951470851898193,\n",
       "  0.24265852570533752,\n",
       "  0.1973450779914856,\n",
       "  0.17759272456169128,\n",
       "  0.16598600149154663,\n",
       "  0.15789039433002472,\n",
       "  0.15157802402973175,\n",
       "  0.14672879874706268,\n",
       "  0.1419748067855835,\n",
       "  0.13846436142921448],\n",
       " 'accuracy': [0.9181166887283325,\n",
       "  0.9577833414077759,\n",
       "  0.965399980545044,\n",
       "  0.9694333076477051,\n",
       "  0.9721333384513855,\n",
       "  0.9736499786376953,\n",
       "  0.9750333428382874,\n",
       "  0.9759500026702881,\n",
       "  0.9771666526794434,\n",
       "  0.9777500033378601],\n",
       " 'val_loss': [0.2600925862789154,\n",
       "  0.19158396124839783,\n",
       "  0.17005787789821625,\n",
       "  0.15958383679389954,\n",
       "  0.15382203459739685,\n",
       "  0.15112067759037018,\n",
       "  0.1498492956161499,\n",
       "  0.15076632797718048,\n",
       "  0.14589504897594452,\n",
       "  0.14438094198703766],\n",
       " 'val_accuracy': [0.9592999815940857,\n",
       "  0.9678000211715698,\n",
       "  0.9711999893188477,\n",
       "  0.9728999733924866,\n",
       "  0.972599983215332,\n",
       "  0.974399983882904,\n",
       "  0.9740999937057495,\n",
       "  0.9726999998092651,\n",
       "  0.9749000072479248,\n",
       "  0.9739000201225281]}"
      ]
     },
     "metadata": {},
     "execution_count": 14
    }
   ],
   "source": [
    "mnist_ds_train_preprocessed = mnist_ds_train_preprocessed.batch(128)\n",
    "mnist_ds_test_preprocessed = mnist_ds_test_preprocessed.batch(128)\n",
    "\n",
    "def get_log_dir():\n",
    "    import time, os\n",
    "    return os.path.join(os.curdir, 'mnist_logs', time.strftime(\"run_%Y_%m_%d-%H_%M_%S\"))\n",
    "log_dir = get_log_dir()\n",
    "tensorboard_cb = tf.keras.callbacks.TensorBoard(log_dir)\n",
    "\n",
    "history = network.fit(mnist_ds_train_preprocessed, epochs=10, validation_data=mnist_ds_test_preprocessed, verbose=1, batch_size=128, callbacks=[tensorboard_cb])\n",
    "history.history"
   ]
  },
  {
   "cell_type": "code",
   "execution_count": null,
   "metadata": {},
   "outputs": [],
   "source": []
  }
 ]
}