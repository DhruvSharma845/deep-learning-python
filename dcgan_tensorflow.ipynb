{
  "nbformat": 4,
  "nbformat_minor": 0,
  "metadata": {
    "colab": {
      "name": "dcgan_tensorflow",
      "provenance": [],
      "collapsed_sections": [],
      "authorship_tag": "ABX9TyPtYczevqrjISa3LEmrATo7",
      "include_colab_link": true
    },
    "kernelspec": {
      "name": "python3",
      "display_name": "Python 3"
    },
    "accelerator": "GPU"
  },
  "cells": [
    {
      "cell_type": "markdown",
      "metadata": {
        "id": "view-in-github",
        "colab_type": "text"
      },
      "source": [
        "<a href=\"https://colab.research.google.com/github/DhruvSharma845/deep-learning-python/blob/master/dcgan_tensorflow.ipynb\" target=\"_parent\"><img src=\"https://colab.research.google.com/assets/colab-badge.svg\" alt=\"Open In Colab\"/></a>"
      ]
    },
    {
      "cell_type": "code",
      "metadata": {
        "id": "SeyI0U5iJCet",
        "colab_type": "code",
        "colab": {
          "base_uri": "https://localhost:8080/",
          "height": 34
        },
        "outputId": "afd5fa63-b73a-4439-b295-5f886c764112"
      },
      "source": [
        "import numpy as np\n",
        "import tensorflow as tf\n",
        "print(tf.__version__)"
      ],
      "execution_count": null,
      "outputs": [
        {
          "output_type": "stream",
          "text": [
            "2.2.0\n"
          ],
          "name": "stdout"
        }
      ]
    },
    {
      "cell_type": "code",
      "metadata": {
        "id": "wNyaYWfBLUP2",
        "colab_type": "code",
        "colab": {}
      },
      "source": [
        "def make_generator(random_z_shape, initial_feature_map_size = 7, initial_feature_maps = 256):\n",
        "  \n",
        "  inp = tf.keras.Input(random_z_shape)\n",
        "  \n",
        "  nn = tf.keras.layers.Dense(n_units=initial_feature_map_size*initial_feature_map_size*initial_feature_maps, use_bias=False)(inp)\n",
        "  nn = tf.keras.layers.Reshape((initial_feature_map_size, initial_feature_map_size, initial_feature_maps))(nn)\n",
        "  nn = tf.keras.layers.BatchNormalization()(nn)\n",
        "  nn = tf.keras.layers.LeakyRelu()(nn)\n",
        "\n",
        "  nn = tf.keras.layers.Conv2DTranspose(initial_feature_maps//2, (5,5), strides=(1,1), padding='same', use_bias=False)(nn)\n",
        "  nn = tf.keras.layers.BatchNormalization()(nn)\n",
        "  nn = tf.keras.layers.LeakyRelu()(nn)\n",
        "\n",
        "  nn = tf.keras.layers.Conv2DTranspose(initial_feature_maps//4, (5,5), strides=(2,2), padding='same', use_bias=False)(nn)\n",
        "  nn = tf.keras.layers.BatchNormalization()(nn)\n",
        "  nn = tf.keras.layers.LeakyRelu()(nn)\n",
        "\n",
        "  #nn = tf.keras.layers.Conv2DTranspose(initial_feature_maps//8, (5,5), strides=(2,2), padding='same', use_bias=False)(nn)\n",
        "  #nn = tf.keras.layers.BatchNormalization()(nn)\n",
        "  #nn = tf.keras.layers.LeakyRelu()(nn)\n",
        "\n",
        "  nn = tf.keras.layers.Conv2DTranspose(1, (5,5), strides=(2,2), padding='same', use_bias=False, activation='tanh')(nn)\n",
        "  return tf.keras.Model(inputs=inp, outputs=nn, name='generator')\n",
        "\n",
        "def make_discriminator(initial_image_shape, initial_feature_maps = 64):\n",
        "  \n",
        "  inp = tf.keras.Input(initial_image_shape)\n",
        "\n",
        "  nn = tf.keras.layers.Conv2D(initial_feature_maps, (5,5), strides=(2,2), padding='same')(inp)\n",
        "  nn = tf.keras.layers.LeakyRelu()(nn)\n",
        "  nn = tf.keras.layers.Dropout(0.3)(nn)\n",
        "\n",
        "  nn = tf.keras.layers.Conv2D(initial_feature_maps * 2, (5,5), strides=(2,2), padding='same')(nn)\n",
        "  nn = tf.keras.layers.LeakyRelu()(nn)\n",
        "  nn = tf.keras.layers.Dropout(0.3)(nn)  \n",
        "\n",
        "  #nn = tf.keras.layers.Conv2D(initial_feature_maps * 4, (5,5), strides=(1,1), padding='same')(nn)\n",
        "  #nn = tf.keras.layers.LeakyRelu()(nn)\n",
        "  #nn = tf.keras.layers.Dropout(0.3)(nn)\n",
        "\n",
        "  nn = tf.keras.layers.Flatten()\n",
        "  nn = tf.keras.layers.Dense(1)\n",
        "\n",
        "  return tf.keras.Model(inputs=inp, outputs=nn, name='discriminator')\n"
      ],
      "execution_count": null,
      "outputs": []
    },
    {
      "cell_type": "code",
      "metadata": {
        "id": "tumJS5mgd25Z",
        "colab_type": "code",
        "colab": {}
      },
      "source": [
        "def train():\n",
        "  generator = make_generator((100,))\n",
        "  random_z = tf.random.normal([1, 100])\n",
        "\n",
        "  discriminator = make_discriminator((28,28,1))\n",
        "\n"
      ],
      "execution_count": null,
      "outputs": []
    }
  ]
}