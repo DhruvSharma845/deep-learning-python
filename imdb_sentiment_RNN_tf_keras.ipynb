{
 "metadata": {
  "language_info": {
   "codemirror_mode": {
    "name": "ipython",
    "version": 3
   },
   "file_extension": ".py",
   "mimetype": "text/x-python",
   "name": "python",
   "nbconvert_exporter": "python",
   "pygments_lexer": "ipython3",
   "version": "3.8.7-final"
  },
  "orig_nbformat": 2,
  "kernelspec": {
   "name": "python3",
   "display_name": "Python 3",
   "language": "python"
  }
 },
 "nbformat": 4,
 "nbformat_minor": 2,
 "cells": [
  {
   "cell_type": "code",
   "execution_count": 6,
   "metadata": {},
   "outputs": [],
   "source": [
    "import numpy as np\n",
    "import pandas as pd\n",
    "import tensorflow as tf"
   ]
  },
  {
   "cell_type": "code",
   "execution_count": 7,
   "metadata": {},
   "outputs": [
    {
     "output_type": "stream",
     "name": "stdout",
     "text": [
      "Train shape: (25000, 256) , (25000,)\n"
     ]
    }
   ],
   "source": [
    "max_features = 10000\n",
    "max_length = 256\n",
    "(X_train, y_train), (X_test, y_test) = tf.keras.datasets.imdb.load_data(num_words=max_features)\n",
    "\n",
    "X_train = tf.keras.preprocessing.sequence.pad_sequences(X_train, maxlen=max_length)\n",
    "X_test = tf.keras.preprocessing.sequence.pad_sequences(X_test, maxlen=max_length)\n",
    "print('Train shape: {} , {}'.format(X_train.shape, y_train.shape))"
   ]
  },
  {
   "cell_type": "code",
   "execution_count": 8,
   "metadata": {},
   "outputs": [
    {
     "output_type": "execute_result",
     "data": {
      "text/plain": [
       "array([   0,    0,    0,    0,    0,    0,    0,    0,    0,    0,    0,\n",
       "          0,    0,    0,    0,    0,    0,    0,    0,    0,    0,    0,\n",
       "          0,    0,    0,    0,    0,    0,    0,    0,    0,    0,    0,\n",
       "          0,    0,    0,    0,    0,    1,   14,   22,   16,   43,  530,\n",
       "        973, 1622, 1385,   65,  458, 4468,   66, 3941,    4,  173,   36,\n",
       "        256,    5,   25,  100,   43,  838,  112,   50,  670,    2,    9,\n",
       "         35,  480,  284,    5,  150,    4,  172,  112,  167,    2,  336,\n",
       "        385,   39,    4,  172, 4536, 1111,   17,  546,   38,   13,  447,\n",
       "          4,  192,   50,   16,    6,  147, 2025,   19,   14,   22,    4,\n",
       "       1920, 4613,  469,    4,   22,   71,   87,   12,   16,   43,  530,\n",
       "         38,   76,   15,   13, 1247,    4,   22,   17,  515,   17,   12,\n",
       "         16,  626,   18,    2,    5,   62,  386,   12,    8,  316,    8,\n",
       "        106,    5,    4, 2223, 5244,   16,  480,   66, 3785,   33,    4,\n",
       "        130,   12,   16,   38,  619,    5,   25,  124,   51,   36,  135,\n",
       "         48,   25, 1415,   33,    6,   22,   12,  215,   28,   77,   52,\n",
       "          5,   14,  407,   16,   82,    2,    8,    4,  107,  117, 5952,\n",
       "         15,  256,    4,    2,    7, 3766,    5,  723,   36,   71,   43,\n",
       "        530,  476,   26,  400,  317,   46,    7,    4,    2, 1029,   13,\n",
       "        104,   88,    4,  381,   15,  297,   98,   32, 2071,   56,   26,\n",
       "        141,    6,  194, 7486,   18,    4,  226,   22,   21,  134,  476,\n",
       "         26,  480,    5,  144,   30, 5535,   18,   51,   36,   28,  224,\n",
       "         92,   25,  104,    4,  226,   65,   16,   38, 1334,   88,   12,\n",
       "         16,  283,    5,   16, 4472,  113,  103,   32,   15,   16, 5345,\n",
       "         19,  178,   32])"
      ]
     },
     "metadata": {},
     "execution_count": 8
    }
   ],
   "source": [
    "X_train[0]"
   ]
  },
  {
   "cell_type": "code",
   "execution_count": 9,
   "metadata": {},
   "outputs": [
    {
     "output_type": "stream",
     "name": "stdout",
     "text": [
      "Model: \"sequential_1\"\n_________________________________________________________________\nLayer (type)                 Output Shape              Param #   \n=================================================================\nembedding_1 (Embedding)      (None, 256, 32)           320000    \n_________________________________________________________________\nlstm (LSTM)                  (None, 256, 32)           8320      \n_________________________________________________________________\ndense_1 (Dense)              (None, 256, 1)            33        \n=================================================================\nTotal params: 328,353\nTrainable params: 328,353\nNon-trainable params: 0\n_________________________________________________________________\n"
     ]
    }
   ],
   "source": [
    "network = tf.keras.models.Sequential([\n",
    "    tf.keras.layers.Embedding(max_features, 32, input_length=max_length),\n",
    "    tf.keras.layers.LSTM(32, return_sequences=True),\n",
    "    tf.keras.layers.Dense(1, activation='sigmoid')\n",
    "])\n",
    "network.compile(optimizer='rmsprop', loss='binary_crossentropy', metrics=['accuracy'])\n",
    "network.summary()"
   ]
  },
  {
   "cell_type": "code",
   "execution_count": 10,
   "metadata": {},
   "outputs": [
    {
     "output_type": "stream",
     "name": "stdout",
     "text": [
      "Epoch 1/10\n",
      "313/313 [==============================] - 20s 57ms/step - loss: 0.6364 - accuracy: 0.6086 - val_loss: 0.5598 - val_accuracy: 0.6884\n",
      "Epoch 2/10\n",
      "313/313 [==============================] - 16s 52ms/step - loss: 0.4946 - accuracy: 0.7237 - val_loss: 0.5141 - val_accuracy: 0.7069\n",
      "Epoch 3/10\n",
      "313/313 [==============================] - 15s 49ms/step - loss: 0.4640 - accuracy: 0.7391 - val_loss: 0.5311 - val_accuracy: 0.7130\n",
      "Epoch 4/10\n",
      "313/313 [==============================] - 15s 49ms/step - loss: 0.4423 - accuracy: 0.7494 - val_loss: 0.5417 - val_accuracy: 0.7121\n",
      "Epoch 5/10\n",
      "313/313 [==============================] - 15s 49ms/step - loss: 0.4277 - accuracy: 0.7548 - val_loss: 0.5319 - val_accuracy: 0.7038\n",
      "Epoch 6/10\n",
      "313/313 [==============================] - 15s 49ms/step - loss: 0.4142 - accuracy: 0.7623 - val_loss: 0.5092 - val_accuracy: 0.7089\n",
      "Epoch 7/10\n",
      "313/313 [==============================] - 15s 49ms/step - loss: 0.4106 - accuracy: 0.7658 - val_loss: 0.5677 - val_accuracy: 0.7033\n",
      "Epoch 8/10\n",
      "313/313 [==============================] - 15s 49ms/step - loss: 0.4040 - accuracy: 0.7622 - val_loss: 0.5409 - val_accuracy: 0.7000\n",
      "Epoch 9/10\n",
      "313/313 [==============================] - 15s 49ms/step - loss: 0.3987 - accuracy: 0.7701 - val_loss: 0.6171 - val_accuracy: 0.7017\n",
      "Epoch 10/10\n",
      "313/313 [==============================] - 15s 50ms/step - loss: 0.3874 - accuracy: 0.7769 - val_loss: 0.5723 - val_accuracy: 0.7059\n"
     ]
    }
   ],
   "source": [
    "history = network.fit(X_train, y_train, epochs=10, batch_size=64, validation_split=0.2)"
   ]
  },
  {
   "cell_type": "code",
   "execution_count": null,
   "metadata": {},
   "outputs": [],
   "source": []
  }
 ]
}